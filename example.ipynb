{
 "cells": [
  {
   "attachments": {},
   "cell_type": "markdown",
   "metadata": {},
   "source": [
    "# Example Usage\n",
    "\n",
    "Notebook version"
   ]
  },
  {
   "cell_type": "code",
   "execution_count": 1,
   "metadata": {},
   "outputs": [],
   "source": [
    "from main import *"
   ]
  },
  {
   "cell_type": "code",
   "execution_count": null,
   "metadata": {},
   "outputs": [],
   "source": [
    "sents = [\n",
    "    \"I have a dream.\",\n",
    "    \"The ball is flying high.\",\n",
    "]\n",
    "scores, sents = run_parsing(sents)"
   ]
  },
  {
   "cell_type": "code",
   "execution_count": 4,
   "metadata": {},
   "outputs": [
    {
     "data": {
      "text/plain": [
       "[[0, 0, 0, 0, 0], [1, 1, 0, 0, 0]]"
      ]
     },
     "execution_count": 4,
     "metadata": {},
     "output_type": "execute_result"
    }
   ],
   "source": [
    "scores"
   ]
  },
  {
   "cell_type": "code",
   "execution_count": 3,
   "metadata": {},
   "outputs": [
    {
     "name": "stdout",
     "output_type": "stream",
     "text": [
      "Sentence     : I have a dream.\n",
      "  Structures :\n",
      "    S - V    : have - I\n",
      "  Stories    :\n",
      "    C - A    : have - I\n",
      "    C - A    : dream - I\n",
      "\n",
      "Sentence     : The ball is flying high.\n",
      "  Structures :\n",
      "    S - V    : is flying high - The ball\n",
      "  Stories    :\n",
      "    None\n",
      "\n"
     ]
    }
   ],
   "source": [
    "for sent in sents:\n",
    "    print(sent)"
   ]
  },
  {
   "cell_type": "code",
   "execution_count": 9,
   "metadata": {},
   "outputs": [
    {
     "name": "stdout",
     "output_type": "stream",
     "text": [
      "# ::snt The ball is flying high.\n",
      "# ::tokens [\"The\", \"ball\", \"is\", \"flying\", \"high\", \".\"]\n",
      "# ::ner_tags [\"O\", \"O\", \"O\", \"O\", \"O\", \"O\"]\n",
      "# ::ner_iob [\"O\", \"O\", \"O\", \"O\", \"O\", \"O\"]\n",
      "# ::pos_tags [\"DT\", \"NN\", \"VBZ\", \"VBG\", \"RB\", \".\"]\n",
      "# ::lemmas [\"the\", \"ball\", \"be\", \"fly\", \"high\", \".\"]\n",
      "# ::alignments 1-1.1 3-1 4-1.2\n",
      "(f / fly-01~e.3\n",
      "   :ARG2 (b / ball~e.1)\n",
      "   :ARG1-of (h / high-02~e.4))\n"
     ]
    }
   ],
   "source": [
    "import penman\n",
    "penman_graph = penman.encode(sents.amrs.graphs[1])\n",
    "print(penman_graph)"
   ]
  },
  {
   "cell_type": "code",
   "execution_count": 12,
   "metadata": {},
   "outputs": [],
   "source": [
    "input_file = 'example_sentences.txt'\n",
    "output_file = 'example_results.txt'\n",
    "start = 0\n",
    "end = 10\n",
    "batch_size = 4"
   ]
  },
  {
   "cell_type": "code",
   "execution_count": 13,
   "metadata": {},
   "outputs": [
    {
     "name": "stdout",
     "output_type": "stream",
     "text": [
      "Processing sentence 0 to 3\n",
      "Elapsed time: 51.36798024177551\n",
      "Processing sentence 4 to 7\n",
      "Elapsed time: 24.412338972091675\n",
      "Processing sentence 8 to 9\n",
      "Elapsed time: 22.58508539199829\n"
     ]
    }
   ],
   "source": [
    "for batch, i, j in sents_iter(start, end, batch_size, input_file):\n",
    "    start_time = time()\n",
    "    print(\"Processing sentence {} to {}\".format(i, j))\n",
    "    scores, descriptions = run_parsing(batch)\n",
    "    save_results(scores, descriptions, output_file, i, batch_size)\n",
    "    print('Elapsed time:', time()-start_time)"
   ]
  }
 ],
 "metadata": {
  "kernelspec": {
   "display_name": "Python 3",
   "language": "python",
   "name": "python3"
  },
  "language_info": {
   "codemirror_mode": {
    "name": "ipython",
    "version": 3
   },
   "file_extension": ".py",
   "mimetype": "text/x-python",
   "name": "python",
   "nbconvert_exporter": "python",
   "pygments_lexer": "ipython3",
   "version": "3.9.12"
  },
  "orig_nbformat": 4
 },
 "nbformat": 4,
 "nbformat_minor": 2
}
