{
 "cells": [
  {
   "attachments": {},
   "cell_type": "markdown",
   "metadata": {},
   "source": [
    "# Example Usage\n",
    "\n",
    "Notebook version"
   ]
  },
  {
   "cell_type": "code",
   "execution_count": 1,
   "metadata": {},
   "outputs": [],
   "source": [
    "from main import *"
   ]
  },
  {
   "cell_type": "code",
   "execution_count": null,
   "metadata": {},
   "outputs": [],
   "source": [
    "sents = [\n",
    "    \"I have a dream.\",\n",
    "    \"The ball is flying high.\"\n",
    "]\n",
    "scores, sents = run_parsing(sents)"
   ]
  },
  {
   "cell_type": "code",
   "execution_count": 4,
   "metadata": {},
   "outputs": [
    {
     "data": {
      "text/plain": [
       "[[0, 0, 0, 0, 0], [1, 1, 0, 0, 0]]"
      ]
     },
     "execution_count": 4,
     "metadata": {},
     "output_type": "execute_result"
    }
   ],
   "source": [
    "scores"
   ]
  },
  {
   "cell_type": "code",
   "execution_count": 5,
   "metadata": {},
   "outputs": [
    {
     "name": "stdout",
     "output_type": "stream",
     "text": [
      "Sent       0 : I have a dream.\n",
      "  Structures :\n",
      "    S - V    : have - I\n",
      "  Stories    :\n",
      "    C - A    : have - I\n",
      "    C - A    : dream - I\n",
      "\n",
      "Sent       1 : The ball is flying high.\n",
      "  Structures :\n",
      "    S - V    : is flying high - The ball\n",
      "  Stories    :\n",
      "    None\n",
      "\n"
     ]
    }
   ],
   "source": [
    "for sent in sents:\n",
    "    print(sent)"
   ]
  },
  {
   "cell_type": "code",
   "execution_count": 6,
   "metadata": {},
   "outputs": [],
   "source": [
    "input_file = 'example_sentences.txt'\n",
    "output_file = 'example_results.txt'\n",
    "start = 0\n",
    "end = 10\n",
    "batch_size = 2"
   ]
  },
  {
   "cell_type": "code",
   "execution_count": 7,
   "metadata": {},
   "outputs": [
    {
     "name": "stdout",
     "output_type": "stream",
     "text": [
      "Processing sentence 0 to 1\n",
      "Elapsed time: 18.831762313842773\n",
      "Processing sentence 2 to 3\n",
      "Elapsed time: 34.173412561416626\n",
      "Processing sentence 4 to 5\n",
      "Elapsed time: 6.310175180435181\n",
      "Processing sentence 6 to 7\n",
      "Elapsed time: 16.152618885040283\n",
      "Processing sentence 8 to 9\n",
      "Elapsed time: 23.9799382686615\n"
     ]
    }
   ],
   "source": [
    "for batch, i, j in sents_iter(start, end, batch_size, input_file):\n",
    "    start_time = time()\n",
    "    print(\"Processing sentence {} to {}\".format(i, j))\n",
    "    scores, descriptions = run_parsing(batch)\n",
    "    save_results(scores, descriptions, output_file, i, batch_size)\n",
    "    print('Elapsed time:', time()-start_time)"
   ]
  }
 ],
 "metadata": {
  "kernelspec": {
   "display_name": "Python 3",
   "language": "python",
   "name": "python3"
  },
  "language_info": {
   "codemirror_mode": {
    "name": "ipython",
    "version": 3
   },
   "file_extension": ".py",
   "mimetype": "text/x-python",
   "name": "python",
   "nbconvert_exporter": "python",
   "pygments_lexer": "ipython3",
   "version": "3.9.12"
  },
  "orig_nbformat": 4
 },
 "nbformat": 4,
 "nbformat_minor": 2
}
